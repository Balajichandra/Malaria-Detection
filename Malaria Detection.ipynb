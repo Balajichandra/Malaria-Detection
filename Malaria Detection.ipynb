{
 "cells": [
  {
   "cell_type": "code",
   "execution_count": 1,
   "id": "db713803",
   "metadata": {},
   "outputs": [],
   "source": [
    "#To allocate memorey for gpu(here we are using 50%)\n",
    "from tensorflow.compat.v1 import ConfigProto\n",
    "from tensorflow.compat.v1 import InteractiveSession\n",
    "\n",
    "config = ConfigProto()\n",
    "config.gpu_options.per_process_gpu_memory_fraction = 0.5\n",
    "config.gpu_options.allow_growth = True\n",
    "session = InteractiveSession(config=config)"
   ]
  },
  {
   "cell_type": "code",
   "execution_count": 2,
   "id": "97091eba",
   "metadata": {},
   "outputs": [
    {
     "name": "stdout",
     "output_type": "stream",
     "text": [
      "2.0.0\n"
     ]
    }
   ],
   "source": [
    "import tensorflow as tf\n",
    "print(tf.__version__)"
   ]
  },
  {
   "cell_type": "code",
   "execution_count": 4,
   "id": "55081be1",
   "metadata": {},
   "outputs": [],
   "source": [
    "# import the libraries as shown below\n",
    "\n",
    "from keras.layers import Input, Lambda, Dense, Flatten,Conv2D\n",
    "from keras.models import Model\n",
    "from keras.applications.vgg19 import VGG19\n",
    "from keras.applications.resnet50 import preprocess_input\n",
    "from keras.preprocessing import image\n",
    "from keras.preprocessing.image import ImageDataGenerator,load_img\n",
    "from keras.models import Sequential\n",
    "import numpy as np\n",
    "from glob import glob\n",
    "#import matplotlib.pyplot as plt"
   ]
  },
  {
   "cell_type": "code",
   "execution_count": 5,
   "id": "a9bdb16f",
   "metadata": {},
   "outputs": [],
   "source": [
    "# re-size all the images to this\n",
    "IMAGE_SIZE = [224, 224]\n",
    "\n",
    "train_path = 'Train/'\n",
    "valid_path = 'Test/'"
   ]
  },
  {
   "cell_type": "code",
   "execution_count": 6,
   "id": "4652bd6b",
   "metadata": {},
   "outputs": [
    {
     "name": "stdout",
     "output_type": "stream",
     "text": [
      "Downloading data from https://github.com/fchollet/deep-learning-models/releases/download/v0.1/vgg19_weights_tf_dim_ordering_tf_kernels_notop.h5\n",
      "80142336/80134624 [==============================] - 41s 1us/step\n"
     ]
    }
   ],
   "source": [
    "# Import the Vgg 16 library as shown below and add preprocessing layer to the front of VGG\n",
    "# Here we will be using imagenet weights\n",
    "\n",
    "mobilnet = VGG19(input_shape=IMAGE_SIZE + [3], weights='imagenet', include_top=False)"
   ]
  },
  {
   "cell_type": "code",
   "execution_count": 7,
   "id": "a6455a99",
   "metadata": {},
   "outputs": [],
   "source": [
    "# don't train existing weights\n",
    "for layer in mobilnet.layers:\n",
    "    layer.trainable = False"
   ]
  },
  {
   "cell_type": "code",
   "execution_count": 9,
   "id": "89b86928",
   "metadata": {},
   "outputs": [],
   "source": [
    "# useful for getting number of output classes\n",
    "folders = glob('Train/*')"
   ]
  },
  {
   "cell_type": "code",
   "execution_count": 10,
   "id": "3de40f68",
   "metadata": {},
   "outputs": [
    {
     "data": {
      "text/plain": [
       "['Train\\\\Parasite', 'Train\\\\Uninfected']"
      ]
     },
     "execution_count": 10,
     "metadata": {},
     "output_type": "execute_result"
    }
   ],
   "source": [
    "folders"
   ]
  },
  {
   "cell_type": "code",
   "execution_count": 11,
   "id": "672a3851",
   "metadata": {},
   "outputs": [],
   "source": [
    "# our layers - you can add more if you want\n",
    "x = Flatten()(mobilnet.output)"
   ]
  },
  {
   "cell_type": "code",
   "execution_count": 12,
   "id": "24386c6e",
   "metadata": {},
   "outputs": [],
   "source": [
    "prediction = Dense(len(folders), activation='softmax')(x)\n",
    "\n",
    "# create a model object\n",
    "model = Model(inputs=mobilnet.input, outputs=prediction)"
   ]
  },
  {
   "cell_type": "code",
   "execution_count": 13,
   "id": "8757a589",
   "metadata": {},
   "outputs": [
    {
     "name": "stdout",
     "output_type": "stream",
     "text": [
      "Model: \"model_1\"\n",
      "_________________________________________________________________\n",
      "Layer (type)                 Output Shape              Param #   \n",
      "=================================================================\n",
      "input_1 (InputLayer)         (None, 224, 224, 3)       0         \n",
      "_________________________________________________________________\n",
      "block1_conv1 (Conv2D)        (None, 224, 224, 64)      1792      \n",
      "_________________________________________________________________\n",
      "block1_conv2 (Conv2D)        (None, 224, 224, 64)      36928     \n",
      "_________________________________________________________________\n",
      "block1_pool (MaxPooling2D)   (None, 112, 112, 64)      0         \n",
      "_________________________________________________________________\n",
      "block2_conv1 (Conv2D)        (None, 112, 112, 128)     73856     \n",
      "_________________________________________________________________\n",
      "block2_conv2 (Conv2D)        (None, 112, 112, 128)     147584    \n",
      "_________________________________________________________________\n",
      "block2_pool (MaxPooling2D)   (None, 56, 56, 128)       0         \n",
      "_________________________________________________________________\n",
      "block3_conv1 (Conv2D)        (None, 56, 56, 256)       295168    \n",
      "_________________________________________________________________\n",
      "block3_conv2 (Conv2D)        (None, 56, 56, 256)       590080    \n",
      "_________________________________________________________________\n",
      "block3_conv3 (Conv2D)        (None, 56, 56, 256)       590080    \n",
      "_________________________________________________________________\n",
      "block3_conv4 (Conv2D)        (None, 56, 56, 256)       590080    \n",
      "_________________________________________________________________\n",
      "block3_pool (MaxPooling2D)   (None, 28, 28, 256)       0         \n",
      "_________________________________________________________________\n",
      "block4_conv1 (Conv2D)        (None, 28, 28, 512)       1180160   \n",
      "_________________________________________________________________\n",
      "block4_conv2 (Conv2D)        (None, 28, 28, 512)       2359808   \n",
      "_________________________________________________________________\n",
      "block4_conv3 (Conv2D)        (None, 28, 28, 512)       2359808   \n",
      "_________________________________________________________________\n",
      "block4_conv4 (Conv2D)        (None, 28, 28, 512)       2359808   \n",
      "_________________________________________________________________\n",
      "block4_pool (MaxPooling2D)   (None, 14, 14, 512)       0         \n",
      "_________________________________________________________________\n",
      "block5_conv1 (Conv2D)        (None, 14, 14, 512)       2359808   \n",
      "_________________________________________________________________\n",
      "block5_conv2 (Conv2D)        (None, 14, 14, 512)       2359808   \n",
      "_________________________________________________________________\n",
      "block5_conv3 (Conv2D)        (None, 14, 14, 512)       2359808   \n",
      "_________________________________________________________________\n",
      "block5_conv4 (Conv2D)        (None, 14, 14, 512)       2359808   \n",
      "_________________________________________________________________\n",
      "block5_pool (MaxPooling2D)   (None, 7, 7, 512)         0         \n",
      "_________________________________________________________________\n",
      "flatten_1 (Flatten)          (None, 25088)             0         \n",
      "_________________________________________________________________\n",
      "dense_1 (Dense)              (None, 2)                 50178     \n",
      "=================================================================\n",
      "Total params: 20,074,562\n",
      "Trainable params: 50,178\n",
      "Non-trainable params: 20,024,384\n",
      "_________________________________________________________________\n"
     ]
    }
   ],
   "source": [
    "# view the structure of the model\n",
    "model.summary()"
   ]
  },
  {
   "cell_type": "code",
   "execution_count": 14,
   "id": "3c38306c",
   "metadata": {},
   "outputs": [],
   "source": [
    "# tell the model what cost and optimization method to use\n",
    "model.compile(\n",
    "  loss='categorical_crossentropy',\n",
    "  optimizer='adam',\n",
    "  metrics=['accuracy']\n",
    ")"
   ]
  },
  {
   "cell_type": "code",
   "execution_count": 15,
   "id": "731e4bcf",
   "metadata": {},
   "outputs": [],
   "source": [
    "# Use the Image Data Generator to import the images from the dataset\n",
    "from keras.preprocessing.image import ImageDataGenerator\n",
    "\n",
    "train_datagen = ImageDataGenerator(rescale = 1./255,\n",
    "                                   shear_range = 0.2,\n",
    "                                   zoom_range = 0.2,\n",
    "                                   horizontal_flip = True)\n",
    "\n",
    "test_datagen = ImageDataGenerator(rescale = 1./255)"
   ]
  },
  {
   "cell_type": "code",
   "execution_count": 16,
   "id": "0da9e22b",
   "metadata": {},
   "outputs": [
    {
     "name": "stdout",
     "output_type": "stream",
     "text": [
      "Found 416 images belonging to 2 classes.\n"
     ]
    }
   ],
   "source": [
    "# Make sure you provide the same target size as initialied for the image size\n",
    "training_set = train_datagen.flow_from_directory('Train/',\n",
    "                                                 target_size = (224, 224),\n",
    "                                                 batch_size = 32,\n",
    "                                                 class_mode = 'categorical')"
   ]
  },
  {
   "cell_type": "code",
   "execution_count": 17,
   "id": "9e0608fe",
   "metadata": {},
   "outputs": [
    {
     "name": "stdout",
     "output_type": "stream",
     "text": [
      "Found 134 images belonging to 2 classes.\n"
     ]
    }
   ],
   "source": [
    "test_set = test_datagen.flow_from_directory('Test/',\n",
    "                                            target_size = (224, 224),\n",
    "                                            batch_size = 32,\n",
    "                                            class_mode = 'categorical')"
   ]
  },
  {
   "cell_type": "code",
   "execution_count": 18,
   "id": "cd254707",
   "metadata": {},
   "outputs": [
    {
     "name": "stdout",
     "output_type": "stream",
     "text": [
      "Epoch 1/50\n",
      "13/13 [==============================] - 54s 4s/step - loss: 1.6010 - accuracy: 0.5288 - val_loss: 2.6777 - val_accuracy: 0.3284\n",
      "Epoch 2/50\n",
      "13/13 [==============================] - 6s 473ms/step - loss: 0.8898 - accuracy: 0.5962 - val_loss: 0.2553 - val_accuracy: 0.7687\n",
      "Epoch 3/50\n",
      "13/13 [==============================] - 6s 472ms/step - loss: 0.6160 - accuracy: 0.6995 - val_loss: 0.2637 - val_accuracy: 0.7985\n",
      "Epoch 4/50\n",
      "13/13 [==============================] - 6s 472ms/step - loss: 0.5163 - accuracy: 0.7404 - val_loss: 1.5323 - val_accuracy: 0.5597\n",
      "Epoch 5/50\n",
      "13/13 [==============================] - 10s 775ms/step - loss: 0.4532 - accuracy: 0.7885 - val_loss: 0.1572 - val_accuracy: 0.7239\n",
      "Epoch 6/50\n",
      "13/13 [==============================] - 5s 357ms/step - loss: 0.3614 - accuracy: 0.8389 - val_loss: 0.6831 - val_accuracy: 0.7687\n",
      "Epoch 7/50\n",
      "13/13 [==============================] - 5s 359ms/step - loss: 0.3015 - accuracy: 0.8846 - val_loss: 0.2926 - val_accuracy: 0.8284\n",
      "Epoch 8/50\n",
      "13/13 [==============================] - 5s 356ms/step - loss: 0.2642 - accuracy: 0.9087 - val_loss: 0.4112 - val_accuracy: 0.8358\n",
      "Epoch 9/50\n",
      "13/13 [==============================] - 5s 357ms/step - loss: 0.2278 - accuracy: 0.9279 - val_loss: 0.2161 - val_accuracy: 0.8657\n",
      "Epoch 10/50\n",
      "13/13 [==============================] - 5s 358ms/step - loss: 0.2447 - accuracy: 0.9111 - val_loss: 0.2089 - val_accuracy: 0.8955\n",
      "Epoch 11/50\n",
      "13/13 [==============================] - 5s 358ms/step - loss: 0.2341 - accuracy: 0.9207 - val_loss: 0.2849 - val_accuracy: 0.8731\n",
      "Epoch 12/50\n",
      "13/13 [==============================] - 5s 357ms/step - loss: 0.2367 - accuracy: 0.9087 - val_loss: 0.3659 - val_accuracy: 0.8657\n",
      "Epoch 13/50\n",
      "13/13 [==============================] - 5s 358ms/step - loss: 0.2160 - accuracy: 0.9183 - val_loss: 0.2248 - val_accuracy: 0.8731\n",
      "Epoch 14/50\n",
      "13/13 [==============================] - 9s 693ms/step - loss: 0.1875 - accuracy: 0.9399 - val_loss: 0.2555 - val_accuracy: 0.8657\n",
      "Epoch 15/50\n",
      "13/13 [==============================] - 5s 357ms/step - loss: 0.1745 - accuracy: 0.9543 - val_loss: 0.3629 - val_accuracy: 0.8060\n",
      "Epoch 16/50\n",
      "13/13 [==============================] - 5s 358ms/step - loss: 0.1888 - accuracy: 0.9375 - val_loss: 0.2020 - val_accuracy: 0.9030\n",
      "Epoch 17/50\n",
      "13/13 [==============================] - 5s 357ms/step - loss: 0.1594 - accuracy: 0.9663 - val_loss: 0.4832 - val_accuracy: 0.9030\n",
      "Epoch 18/50\n",
      "13/13 [==============================] - 5s 357ms/step - loss: 0.1551 - accuracy: 0.9639 - val_loss: 0.1515 - val_accuracy: 0.8881\n",
      "Epoch 19/50\n",
      "13/13 [==============================] - 5s 358ms/step - loss: 0.1475 - accuracy: 0.9567 - val_loss: 0.5082 - val_accuracy: 0.8209\n",
      "Epoch 20/50\n",
      "13/13 [==============================] - 5s 358ms/step - loss: 0.1522 - accuracy: 0.9591 - val_loss: 0.3820 - val_accuracy: 0.8582\n",
      "Epoch 21/50\n",
      "13/13 [==============================] - 5s 357ms/step - loss: 0.1870 - accuracy: 0.9303 - val_loss: 0.5061 - val_accuracy: 0.8806\n",
      "Epoch 22/50\n",
      "13/13 [==============================] - 5s 358ms/step - loss: 0.1420 - accuracy: 0.9591 - val_loss: 0.2393 - val_accuracy: 0.8507\n",
      "Epoch 23/50\n",
      "13/13 [==============================] - 5s 358ms/step - loss: 0.1394 - accuracy: 0.9688 - val_loss: 0.2881 - val_accuracy: 0.7836\n",
      "Epoch 24/50\n",
      "13/13 [==============================] - 5s 358ms/step - loss: 0.1424 - accuracy: 0.9495 - val_loss: 0.6998 - val_accuracy: 0.7537\n",
      "Epoch 25/50\n",
      "13/13 [==============================] - 5s 358ms/step - loss: 0.1736 - accuracy: 0.9279 - val_loss: 0.5629 - val_accuracy: 0.8731\n",
      "Epoch 26/50\n",
      "13/13 [==============================] - 5s 358ms/step - loss: 0.1692 - accuracy: 0.9375 - val_loss: 1.1832 - val_accuracy: 0.7015\n",
      "Epoch 27/50\n",
      "13/13 [==============================] - 5s 358ms/step - loss: 0.1596 - accuracy: 0.9399 - val_loss: 0.6961 - val_accuracy: 0.8955\n",
      "Epoch 28/50\n",
      "13/13 [==============================] - 5s 358ms/step - loss: 0.1364 - accuracy: 0.9519 - val_loss: 0.4508 - val_accuracy: 0.9179\n",
      "Epoch 29/50\n",
      "13/13 [==============================] - 5s 358ms/step - loss: 0.1316 - accuracy: 0.9567 - val_loss: 0.4111 - val_accuracy: 0.8955\n",
      "Epoch 30/50\n",
      "13/13 [==============================] - 5s 358ms/step - loss: 0.1281 - accuracy: 0.9591 - val_loss: 0.3298 - val_accuracy: 0.9179\n",
      "Epoch 31/50\n",
      "13/13 [==============================] - 5s 358ms/step - loss: 0.1091 - accuracy: 0.9760 - val_loss: 0.0465 - val_accuracy: 0.9328\n",
      "Epoch 32/50\n",
      "13/13 [==============================] - 5s 357ms/step - loss: 0.1088 - accuracy: 0.9712 - val_loss: 0.1130 - val_accuracy: 0.9030\n",
      "Epoch 33/50\n",
      "13/13 [==============================] - 5s 357ms/step - loss: 0.1148 - accuracy: 0.9639 - val_loss: 0.4876 - val_accuracy: 0.7761\n",
      "Epoch 34/50\n",
      "13/13 [==============================] - 5s 358ms/step - loss: 0.1137 - accuracy: 0.9615 - val_loss: 0.1860 - val_accuracy: 0.8806\n",
      "Epoch 35/50\n",
      "13/13 [==============================] - 5s 358ms/step - loss: 0.1040 - accuracy: 0.9736 - val_loss: 0.3809 - val_accuracy: 0.9328\n",
      "Epoch 36/50\n",
      "13/13 [==============================] - 5s 359ms/step - loss: 0.0984 - accuracy: 0.9784 - val_loss: 0.3866 - val_accuracy: 0.8881\n",
      "Epoch 37/50\n",
      "13/13 [==============================] - 5s 358ms/step - loss: 0.1000 - accuracy: 0.9808 - val_loss: 0.2647 - val_accuracy: 0.8955\n",
      "Epoch 38/50\n",
      "13/13 [==============================] - 5s 357ms/step - loss: 0.0934 - accuracy: 0.9736 - val_loss: 0.6864 - val_accuracy: 0.9403\n",
      "Epoch 39/50\n",
      "13/13 [==============================] - 5s 358ms/step - loss: 0.0971 - accuracy: 0.9736 - val_loss: 0.0620 - val_accuracy: 0.9179\n",
      "Epoch 40/50\n",
      "13/13 [==============================] - 5s 357ms/step - loss: 0.0962 - accuracy: 0.9615 - val_loss: 0.1697 - val_accuracy: 0.8806\n",
      "Epoch 41/50\n",
      "13/13 [==============================] - 5s 358ms/step - loss: 0.0908 - accuracy: 0.9808 - val_loss: 0.6335 - val_accuracy: 0.8955\n",
      "Epoch 42/50\n",
      "13/13 [==============================] - 5s 358ms/step - loss: 0.0881 - accuracy: 0.9736 - val_loss: 0.1576 - val_accuracy: 0.9403\n",
      "Epoch 43/50\n",
      "13/13 [==============================] - 5s 358ms/step - loss: 0.0858 - accuracy: 0.9808 - val_loss: 0.1309 - val_accuracy: 0.9179\n",
      "Epoch 44/50\n",
      "13/13 [==============================] - 5s 358ms/step - loss: 0.0873 - accuracy: 0.9760 - val_loss: 0.3409 - val_accuracy: 0.8657\n",
      "Epoch 45/50\n",
      "13/13 [==============================] - 5s 359ms/step - loss: 0.0930 - accuracy: 0.9712 - val_loss: 0.3813 - val_accuracy: 0.9030\n",
      "Epoch 46/50\n",
      "13/13 [==============================] - 5s 358ms/step - loss: 0.0742 - accuracy: 0.9880 - val_loss: 0.6228 - val_accuracy: 0.9030\n",
      "Epoch 47/50\n",
      "13/13 [==============================] - 5s 358ms/step - loss: 0.0811 - accuracy: 0.9832 - val_loss: 0.3575 - val_accuracy: 0.8060\n",
      "Epoch 48/50\n",
      "13/13 [==============================] - 5s 359ms/step - loss: 0.0776 - accuracy: 0.9856 - val_loss: 0.0439 - val_accuracy: 0.9179\n",
      "Epoch 49/50\n",
      "13/13 [==============================] - 5s 359ms/step - loss: 0.0861 - accuracy: 0.9832 - val_loss: 0.0368 - val_accuracy: 0.8881\n",
      "Epoch 50/50\n",
      "13/13 [==============================] - 5s 358ms/step - loss: 0.0732 - accuracy: 0.9856 - val_loss: 0.0798 - val_accuracy: 0.8955\n"
     ]
    }
   ],
   "source": [
    "# fit the model\n",
    "# Run the cell. It will take some time to execute\n",
    "r = model.fit_generator(\n",
    "  training_set,\n",
    "  validation_data=test_set,\n",
    "  epochs=50,\n",
    "  steps_per_epoch=len(training_set),\n",
    "  validation_steps=len(test_set)\n",
    ")"
   ]
  },
  {
   "cell_type": "code",
   "execution_count": 19,
   "id": "b61ae094",
   "metadata": {},
   "outputs": [],
   "source": [
    "from keras.models import load_model\n",
    "model.save('malaria_disease_vgg19.h5')"
   ]
  },
  {
   "cell_type": "code",
   "execution_count": null,
   "id": "e6242895",
   "metadata": {},
   "outputs": [],
   "source": []
  }
 ],
 "metadata": {
  "kernelspec": {
   "display_name": "Python 3",
   "language": "python",
   "name": "python3"
  },
  "language_info": {
   "codemirror_mode": {
    "name": "ipython",
    "version": 3
   },
   "file_extension": ".py",
   "mimetype": "text/x-python",
   "name": "python",
   "nbconvert_exporter": "python",
   "pygments_lexer": "ipython3",
   "version": "3.6.13"
  }
 },
 "nbformat": 4,
 "nbformat_minor": 5
}
